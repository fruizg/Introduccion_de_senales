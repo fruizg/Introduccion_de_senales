{
 "cells": [
  {
   "cell_type": "code",
   "execution_count": 25,
   "id": "1f2aa777-a1fe-4648-9976-87b697a7107c",
   "metadata": {
    "tags": []
   },
   "outputs": [],
   "source": [
    "import os\n",
    "import shutil\n",
    "import pandas as pd\n",
    "import glob\n",
    "from tqdm import tqdm\n",
    "import time\n",
    "import json\n",
    "import hmac, hashlib\n",
    "import requests"
   ]
  },
  {
   "cell_type": "code",
   "execution_count": 32,
   "id": "583576ef-b976-4cdd-91bf-7b5f402b415f",
   "metadata": {
    "tags": []
   },
   "outputs": [
    {
     "name": "stdout",
     "output_type": "stream",
     "text": [
      "Extracted number: 1\n"
     ]
    }
   ],
   "source": [
    "import re\n",
    "\n",
    "# Your string\n",
    "s = './dataset/1.signal18.csv'\n",
    "\n",
    "# Regular expression pattern\n",
    "pattern = r'(?<=/)(\\d+)\\.'\n",
    "\n",
    "# Searching for the pattern in the string\n",
    "match = re.search(pattern, s)\n",
    "\n",
    "if match:\n",
    "    number = match.group(1)\n",
    "    print(\"Extracted number:\", number)\n",
    "else:\n",
    "    print(\"No match found\")"
   ]
  },
  {
   "cell_type": "code",
   "execution_count": 4,
   "id": "e59b4df0-1788-4bbd-83d8-da99419044b0",
   "metadata": {
    "tags": []
   },
   "outputs": [
    {
     "data": {
      "text/plain": [
       "['./dataset/0.signal1.csv', './dataset/1.signal1.csv']"
      ]
     },
     "execution_count": 4,
     "metadata": {},
     "output_type": "execute_result"
    }
   ],
   "source": [
    "ls = glob.glob(\"./dataset/**/*\", recursive=True)\n",
    "ls"
   ]
  },
  {
   "cell_type": "code",
   "execution_count": 6,
   "id": "f75d9fd2-169c-49a6-aaab-81d5eefa1f2f",
   "metadata": {
    "tags": []
   },
   "outputs": [
    {
     "name": "stderr",
     "output_type": "stream",
     "text": [
      "100%|██████████| 98/98 [00:00<00:00, 1808.57it/s]\n"
     ]
    }
   ],
   "source": [
    "for i in tqdm(range(2,100)):\n",
    "    shutil.copyfile('./dataset/0.signal1.csv', f'./dataset/0.signal{i}.csv')\n",
    "    shutil.copyfile('./dataset/1.signal1.csv', f'./dataset/1.signal{i}.csv')"
   ]
  },
  {
   "cell_type": "markdown",
   "id": "1789ec00-c78d-4454-876b-b09264540ba8",
   "metadata": {},
   "source": [
    "## Uploading to EI"
   ]
  },
  {
   "cell_type": "code",
   "execution_count": 29,
   "id": "436d7400-ebaa-4608-9d3c-00a42ae7154a",
   "metadata": {
    "tags": []
   },
   "outputs": [],
   "source": [
    "def upload_ei(_name_label, _values, hmac_key=\"c8fbafed72b829d4eec44d5f9afd486b\", api_key=\"ei_d54e2d9fbff13d1dc02b6fe7850504b688bfd083c6e4a79c8ba639f3ba80171b\"):\n",
    "    \n",
    "    HMAC_KEY = hmac_key #\"479df84bf18b1722a5f6fcb094265f98\"\n",
    "    API_KEY = api_key #\"ei_3d1d5dce11f879e02009083dc58f828de7f450e550dee0d503acca07e110e4db\"\n",
    "    \n",
    "    emptySignature = ''.join(['0'] * 64)\n",
    "\n",
    "    Fs=1000\n",
    "    Ts=(1/Fs)*1000\n",
    "\n",
    "    data = {\n",
    "        \"protected\": {\n",
    "            \"ver\": \"v1\",\n",
    "            \"alg\": \"HS256\",\n",
    "            \"iat\": time.time() # epoch time, seconds since 1970\n",
    "        },\n",
    "        \"signature\": emptySignature,\n",
    "        \"payload\": {\n",
    "            \"device_name\": \"ac:87:a3:0a:2d:1b\",\n",
    "            \"device_type\": \"NANO33BLE\",\n",
    "            \"interval_ms\": Ts,\n",
    "            \"sensors\": [\n",
    "                { \"name\": \"Volts\", \"units\": \"adu/mv\" },\n",
    "                #{ \"name\": \"Volts\", \"units\": \"adu/mv\" },\n",
    "                #{ \"name\": \"Volts\", \"units\": \"adu/mv\" }\n",
    "            ],\n",
    "            \"values\": _values.tolist()\n",
    "        }\n",
    "    }\n",
    "\n",
    "    # encode in JSON\n",
    "    encoded = json.dumps(data)\n",
    "\n",
    "    # sign message\n",
    "    signature = hmac.new(bytes(HMAC_KEY, 'utf-8'), msg = encoded.encode('utf-8'), digestmod = hashlib.sha256).hexdigest()\n",
    "\n",
    "    # set the signature again in the message, and encode again\n",
    "    data['signature'] = signature\n",
    "    encoded = json.dumps(data)\n",
    "\n",
    "    # and upload the file\n",
    "    res = requests.post(url='https://ingestion.edgeimpulse.com/api/training/data',\n",
    "                        data=encoded,\n",
    "                        headers={\n",
    "                            'Content-Type': 'application/json',\n",
    "                            'x-file-name': _name_label,\n",
    "                            'x-api-key': API_KEY\n",
    "                        })\n",
    "    # if (res.status_code == 200):\n",
    "    #     print('Uploaded file to Edge Impulse', res.status_code, res.content)\n",
    "    # else:\n",
    "    #     print('Failed to upload file to Edge Impulse', res.status_code, res.content)"
   ]
  },
  {
   "cell_type": "code",
   "execution_count": 27,
   "id": "5973d7ef-cd10-4c2e-a9e7-ac7f84500743",
   "metadata": {
    "collapsed": true,
    "jupyter": {
     "outputs_hidden": true
    },
    "tags": []
   },
   "outputs": [
    {
     "data": {
      "text/plain": [
       "['./dataset/0.signal18.csv',\n",
       " './dataset/1.signal76.csv',\n",
       " './dataset/1.signal29.csv',\n",
       " './dataset/1.signal91.csv',\n",
       " './dataset/0.signal73.csv',\n",
       " './dataset/1.signal10.csv',\n",
       " './dataset/1.signal39.csv',\n",
       " './dataset/1.signal81.csv',\n",
       " './dataset/1.signal8.csv',\n",
       " './dataset/0.signal1.csv',\n",
       " './dataset/0.signal76.csv',\n",
       " './dataset/0.signal82.csv',\n",
       " './dataset/0.signal98.csv',\n",
       " './dataset/0.signal69.csv',\n",
       " './dataset/0.signal23.csv',\n",
       " './dataset/0.signal77.csv',\n",
       " './dataset/1.signal93.csv',\n",
       " './dataset/0.signal47.csv',\n",
       " './dataset/1.signal86.csv',\n",
       " './dataset/0.signal21.csv',\n",
       " './dataset/0.signal29.csv',\n",
       " './dataset/1.signal38.csv',\n",
       " './dataset/0.signal84.csv',\n",
       " './dataset/0.signal27.csv',\n",
       " './dataset/0.signal80.csv',\n",
       " './dataset/1.signal73.csv',\n",
       " './dataset/1.signal77.csv',\n",
       " './dataset/1.signal26.csv',\n",
       " './dataset/0.signal65.csv',\n",
       " './dataset/1.signal57.csv',\n",
       " './dataset/0.signal64.csv',\n",
       " './dataset/1.signal87.csv',\n",
       " './dataset/1.signal3.csv',\n",
       " './dataset/1.signal48.csv',\n",
       " './dataset/0.signal96.csv',\n",
       " './dataset/1.signal64.csv',\n",
       " './dataset/1.signal42.csv',\n",
       " './dataset/1.signal50.csv',\n",
       " './dataset/0.signal58.csv',\n",
       " './dataset/0.signal17.csv',\n",
       " './dataset/0.signal44.csv',\n",
       " './dataset/1.signal43.csv',\n",
       " './dataset/0.signal38.csv',\n",
       " './dataset/1.signal27.csv',\n",
       " './dataset/1.signal59.csv',\n",
       " './dataset/0.signal42.csv',\n",
       " './dataset/0.signal81.csv',\n",
       " './dataset/1.signal47.csv',\n",
       " './dataset/1.signal9.csv',\n",
       " './dataset/1.signal80.csv',\n",
       " './dataset/1.signal49.csv',\n",
       " './dataset/1.signal82.csv',\n",
       " './dataset/0.signal54.csv',\n",
       " './dataset/0.signal2.csv',\n",
       " './dataset/1.signal75.csv',\n",
       " './dataset/1.signal99.csv',\n",
       " './dataset/0.signal70.csv',\n",
       " './dataset/1.signal17.csv',\n",
       " './dataset/1.signal88.csv',\n",
       " './dataset/0.signal10.csv',\n",
       " './dataset/1.signal60.csv',\n",
       " './dataset/0.signal26.csv',\n",
       " './dataset/0.signal13.csv',\n",
       " './dataset/1.signal71.csv',\n",
       " './dataset/0.signal43.csv',\n",
       " './dataset/1.signal11.csv',\n",
       " './dataset/1.signal5.csv',\n",
       " './dataset/0.signal67.csv',\n",
       " './dataset/0.signal52.csv',\n",
       " './dataset/0.signal33.csv',\n",
       " './dataset/0.signal94.csv',\n",
       " './dataset/0.signal90.csv',\n",
       " './dataset/0.signal48.csv',\n",
       " './dataset/0.signal97.csv',\n",
       " './dataset/0.signal24.csv',\n",
       " './dataset/1.signal1.csv',\n",
       " './dataset/0.signal3.csv',\n",
       " './dataset/1.signal41.csv',\n",
       " './dataset/1.signal45.csv',\n",
       " './dataset/1.signal54.csv',\n",
       " './dataset/0.signal95.csv',\n",
       " './dataset/1.signal90.csv',\n",
       " './dataset/1.signal53.csv',\n",
       " './dataset/0.signal35.csv',\n",
       " './dataset/0.signal6.csv',\n",
       " './dataset/1.signal72.csv',\n",
       " './dataset/0.signal5.csv',\n",
       " './dataset/1.signal2.csv',\n",
       " './dataset/1.signal13.csv',\n",
       " './dataset/0.signal34.csv',\n",
       " './dataset/0.signal8.csv',\n",
       " './dataset/1.signal79.csv',\n",
       " './dataset/1.signal30.csv',\n",
       " './dataset/1.signal70.csv',\n",
       " './dataset/0.signal51.csv',\n",
       " './dataset/0.signal7.csv',\n",
       " './dataset/0.signal30.csv',\n",
       " './dataset/0.signal62.csv',\n",
       " './dataset/1.signal98.csv',\n",
       " './dataset/0.signal86.csv',\n",
       " './dataset/1.signal12.csv',\n",
       " './dataset/1.signal46.csv',\n",
       " './dataset/0.signal25.csv',\n",
       " './dataset/1.signal69.csv',\n",
       " './dataset/0.signal20.csv',\n",
       " './dataset/1.signal34.csv',\n",
       " './dataset/1.signal65.csv',\n",
       " './dataset/1.signal24.csv',\n",
       " './dataset/0.signal87.csv',\n",
       " './dataset/0.signal11.csv',\n",
       " './dataset/0.signal88.csv',\n",
       " './dataset/1.signal78.csv',\n",
       " './dataset/0.signal45.csv',\n",
       " './dataset/1.signal33.csv',\n",
       " './dataset/0.signal19.csv',\n",
       " './dataset/1.signal83.csv',\n",
       " './dataset/1.signal22.csv',\n",
       " './dataset/1.signal97.csv',\n",
       " './dataset/1.signal68.csv',\n",
       " './dataset/1.signal37.csv',\n",
       " './dataset/0.signal32.csv',\n",
       " './dataset/1.signal56.csv',\n",
       " './dataset/1.signal28.csv',\n",
       " './dataset/1.signal25.csv',\n",
       " './dataset/1.signal6.csv',\n",
       " './dataset/0.signal14.csv',\n",
       " './dataset/0.signal55.csv',\n",
       " './dataset/0.signal75.csv',\n",
       " './dataset/0.signal89.csv',\n",
       " './dataset/0.signal37.csv',\n",
       " './dataset/1.signal16.csv',\n",
       " './dataset/0.signal92.csv',\n",
       " './dataset/1.signal89.csv',\n",
       " './dataset/0.signal63.csv',\n",
       " './dataset/0.signal78.csv',\n",
       " './dataset/0.signal50.csv',\n",
       " './dataset/1.signal44.csv',\n",
       " './dataset/0.signal40.csv',\n",
       " './dataset/0.signal49.csv',\n",
       " './dataset/0.signal85.csv',\n",
       " './dataset/0.signal15.csv',\n",
       " './dataset/1.signal55.csv',\n",
       " './dataset/1.signal7.csv',\n",
       " './dataset/1.signal96.csv',\n",
       " './dataset/0.signal57.csv',\n",
       " './dataset/0.signal61.csv',\n",
       " './dataset/0.signal36.csv',\n",
       " './dataset/1.signal84.csv',\n",
       " './dataset/1.signal31.csv',\n",
       " './dataset/0.signal9.csv',\n",
       " './dataset/0.signal91.csv',\n",
       " './dataset/0.signal99.csv',\n",
       " './dataset/0.signal39.csv',\n",
       " './dataset/1.signal63.csv',\n",
       " './dataset/0.signal31.csv',\n",
       " './dataset/0.signal16.csv',\n",
       " './dataset/0.signal66.csv',\n",
       " './dataset/1.signal61.csv',\n",
       " './dataset/1.signal74.csv',\n",
       " './dataset/0.signal72.csv',\n",
       " './dataset/1.signal94.csv',\n",
       " './dataset/1.signal21.csv',\n",
       " './dataset/1.signal15.csv',\n",
       " './dataset/0.signal53.csv',\n",
       " './dataset/1.signal67.csv',\n",
       " './dataset/0.signal41.csv',\n",
       " './dataset/1.signal92.csv',\n",
       " './dataset/0.signal60.csv',\n",
       " './dataset/1.signal18.csv',\n",
       " './dataset/1.signal52.csv',\n",
       " './dataset/1.signal4.csv',\n",
       " './dataset/0.signal12.csv',\n",
       " './dataset/0.signal68.csv',\n",
       " './dataset/1.signal62.csv',\n",
       " './dataset/0.signal59.csv',\n",
       " './dataset/0.signal28.csv',\n",
       " './dataset/1.signal14.csv',\n",
       " './dataset/1.signal36.csv',\n",
       " './dataset/0.signal74.csv',\n",
       " './dataset/0.signal79.csv',\n",
       " './dataset/1.signal20.csv',\n",
       " './dataset/0.signal22.csv',\n",
       " './dataset/1.signal23.csv',\n",
       " './dataset/0.signal93.csv',\n",
       " './dataset/0.signal83.csv',\n",
       " './dataset/0.signal71.csv',\n",
       " './dataset/1.signal66.csv',\n",
       " './dataset/1.signal32.csv',\n",
       " './dataset/1.signal35.csv',\n",
       " './dataset/0.signal46.csv',\n",
       " './dataset/1.signal19.csv',\n",
       " './dataset/0.signal4.csv',\n",
       " './dataset/0.signal56.csv',\n",
       " './dataset/1.signal95.csv',\n",
       " './dataset/1.signal85.csv',\n",
       " './dataset/1.signal40.csv',\n",
       " './dataset/1.signal51.csv',\n",
       " './dataset/1.signal58.csv']"
      ]
     },
     "execution_count": 27,
     "metadata": {},
     "output_type": "execute_result"
    }
   ],
   "source": [
    "ls = glob.glob(\"./dataset/**/*\", recursive=True)\n",
    "ls"
   ]
  },
  {
   "cell_type": "code",
   "execution_count": 8,
   "id": "455d3875-34b4-44d0-a0df-b7f25f582130",
   "metadata": {
    "tags": []
   },
   "outputs": [
    {
     "data": {
      "text/html": [
       "<div>\n",
       "<style scoped>\n",
       "    .dataframe tbody tr th:only-of-type {\n",
       "        vertical-align: middle;\n",
       "    }\n",
       "\n",
       "    .dataframe tbody tr th {\n",
       "        vertical-align: top;\n",
       "    }\n",
       "\n",
       "    .dataframe thead th {\n",
       "        text-align: right;\n",
       "    }\n",
       "</style>\n",
       "<table border=\"1\" class=\"dataframe\">\n",
       "  <thead>\n",
       "    <tr style=\"text-align: right;\">\n",
       "      <th></th>\n",
       "      <th>timestamp</th>\n",
       "      <th>inicio</th>\n",
       "    </tr>\n",
       "  </thead>\n",
       "  <tbody>\n",
       "    <tr>\n",
       "      <th>0</th>\n",
       "      <td>0</td>\n",
       "      <td>-0.000138</td>\n",
       "    </tr>\n",
       "    <tr>\n",
       "      <th>1</th>\n",
       "      <td>1</td>\n",
       "      <td>-0.000544</td>\n",
       "    </tr>\n",
       "    <tr>\n",
       "      <th>2</th>\n",
       "      <td>2</td>\n",
       "      <td>-0.000344</td>\n",
       "    </tr>\n",
       "    <tr>\n",
       "      <th>3</th>\n",
       "      <td>3</td>\n",
       "      <td>0.001138</td>\n",
       "    </tr>\n",
       "    <tr>\n",
       "      <th>4</th>\n",
       "      <td>4</td>\n",
       "      <td>0.001554</td>\n",
       "    </tr>\n",
       "  </tbody>\n",
       "</table>\n",
       "</div>"
      ],
      "text/plain": [
       "   timestamp    inicio\n",
       "0          0 -0.000138\n",
       "1          1 -0.000544\n",
       "2          2 -0.000344\n",
       "3          3  0.001138\n",
       "4          4  0.001554"
      ]
     },
     "execution_count": 8,
     "metadata": {},
     "output_type": "execute_result"
    }
   ],
   "source": [
    "\n",
    "\n",
    "df = pd.read_csv(\"0.signal1.csv\", delimiter=\"\\t\")\n",
    "df.head()"
   ]
  },
  {
   "cell_type": "code",
   "execution_count": 19,
   "id": "d93ded7d-5f10-416f-8c82-31660a1e54e1",
   "metadata": {
    "tags": []
   },
   "outputs": [],
   "source": [
    "data_raw = df[\"inicio\"].values.reshape(-1,1)#.tolist()"
   ]
  },
  {
   "cell_type": "code",
   "execution_count": 26,
   "id": "35fddb6f-ef76-4650-ae44-ffc5109f638b",
   "metadata": {
    "tags": []
   },
   "outputs": [
    {
     "name": "stdout",
     "output_type": "stream",
     "text": [
      "Uploaded file to Edge Impulse 200 b'0.4fccv03c.json'\n"
     ]
    }
   ],
   "source": [
    "upload_ei(\"0\", data_raw)"
   ]
  },
  {
   "cell_type": "code",
   "execution_count": 33,
   "id": "3a712d37-c7fe-45dd-8397-ca8a6d076750",
   "metadata": {
    "tags": []
   },
   "outputs": [
    {
     "name": "stderr",
     "output_type": "stream",
     "text": [
      " 43%|████▎     | 85/198 [03:48<05:03,  2.69s/it]\n"
     ]
    },
    {
     "ename": "KeyboardInterrupt",
     "evalue": "",
     "output_type": "error",
     "traceback": [
      "\u001b[0;31m---------------------------------------------------------------------------\u001b[0m",
      "\u001b[0;31mKeyboardInterrupt\u001b[0m                         Traceback (most recent call last)",
      "Cell \u001b[0;32mIn[33], line 6\u001b[0m\n\u001b[1;32m      4\u001b[0m     number \u001b[38;5;241m=\u001b[39m match\u001b[38;5;241m.\u001b[39mgroup(\u001b[38;5;241m1\u001b[39m)\n\u001b[1;32m      5\u001b[0m     \u001b[38;5;66;03m#print(\"Extracted number:\", number)\u001b[39;00m\n\u001b[0;32m----> 6\u001b[0m upload_ei(\u001b[38;5;28mstr\u001b[39m(number), pd\u001b[38;5;241m.\u001b[39mread_csv(i, delimiter\u001b[38;5;241m=\u001b[39m\u001b[38;5;124m\"\u001b[39m\u001b[38;5;130;01m\\t\u001b[39;00m\u001b[38;5;124m\"\u001b[39m)[\u001b[38;5;124m\"\u001b[39m\u001b[38;5;124minicio\u001b[39m\u001b[38;5;124m\"\u001b[39m]\u001b[38;5;241m.\u001b[39mvalues\u001b[38;5;241m.\u001b[39mreshape(\u001b[38;5;241m-\u001b[39m\u001b[38;5;241m1\u001b[39m,\u001b[38;5;241m1\u001b[39m))\n",
      "Cell \u001b[0;32mIn[29], line 42\u001b[0m, in \u001b[0;36mupload_ei\u001b[0;34m(_name_label, _values, hmac_key, api_key)\u001b[0m\n\u001b[1;32m     39\u001b[0m encoded \u001b[38;5;241m=\u001b[39m json\u001b[38;5;241m.\u001b[39mdumps(data)\n\u001b[1;32m     41\u001b[0m \u001b[38;5;66;03m# and upload the file\u001b[39;00m\n\u001b[0;32m---> 42\u001b[0m res \u001b[38;5;241m=\u001b[39m requests\u001b[38;5;241m.\u001b[39mpost(url\u001b[38;5;241m=\u001b[39m\u001b[38;5;124m'\u001b[39m\u001b[38;5;124mhttps://ingestion.edgeimpulse.com/api/training/data\u001b[39m\u001b[38;5;124m'\u001b[39m,\n\u001b[1;32m     43\u001b[0m                     data\u001b[38;5;241m=\u001b[39mencoded,\n\u001b[1;32m     44\u001b[0m                     headers\u001b[38;5;241m=\u001b[39m{\n\u001b[1;32m     45\u001b[0m                         \u001b[38;5;124m'\u001b[39m\u001b[38;5;124mContent-Type\u001b[39m\u001b[38;5;124m'\u001b[39m: \u001b[38;5;124m'\u001b[39m\u001b[38;5;124mapplication/json\u001b[39m\u001b[38;5;124m'\u001b[39m,\n\u001b[1;32m     46\u001b[0m                         \u001b[38;5;124m'\u001b[39m\u001b[38;5;124mx-file-name\u001b[39m\u001b[38;5;124m'\u001b[39m: _name_label,\n\u001b[1;32m     47\u001b[0m                         \u001b[38;5;124m'\u001b[39m\u001b[38;5;124mx-api-key\u001b[39m\u001b[38;5;124m'\u001b[39m: API_KEY\n\u001b[1;32m     48\u001b[0m                     })\n",
      "File \u001b[0;32m~/anaconda3/lib/python3.11/site-packages/requests/api.py:115\u001b[0m, in \u001b[0;36mpost\u001b[0;34m(url, data, json, **kwargs)\u001b[0m\n\u001b[1;32m    103\u001b[0m \u001b[38;5;28;01mdef\u001b[39;00m \u001b[38;5;21mpost\u001b[39m(url, data\u001b[38;5;241m=\u001b[39m\u001b[38;5;28;01mNone\u001b[39;00m, json\u001b[38;5;241m=\u001b[39m\u001b[38;5;28;01mNone\u001b[39;00m, \u001b[38;5;241m*\u001b[39m\u001b[38;5;241m*\u001b[39mkwargs):\n\u001b[1;32m    104\u001b[0m \u001b[38;5;250m    \u001b[39m\u001b[38;5;124mr\u001b[39m\u001b[38;5;124;03m\"\"\"Sends a POST request.\u001b[39;00m\n\u001b[1;32m    105\u001b[0m \n\u001b[1;32m    106\u001b[0m \u001b[38;5;124;03m    :param url: URL for the new :class:`Request` object.\u001b[39;00m\n\u001b[0;32m   (...)\u001b[0m\n\u001b[1;32m    112\u001b[0m \u001b[38;5;124;03m    :rtype: requests.Response\u001b[39;00m\n\u001b[1;32m    113\u001b[0m \u001b[38;5;124;03m    \"\"\"\u001b[39;00m\n\u001b[0;32m--> 115\u001b[0m     \u001b[38;5;28;01mreturn\u001b[39;00m request(\u001b[38;5;124m\"\u001b[39m\u001b[38;5;124mpost\u001b[39m\u001b[38;5;124m\"\u001b[39m, url, data\u001b[38;5;241m=\u001b[39mdata, json\u001b[38;5;241m=\u001b[39mjson, \u001b[38;5;241m*\u001b[39m\u001b[38;5;241m*\u001b[39mkwargs)\n",
      "File \u001b[0;32m~/anaconda3/lib/python3.11/site-packages/requests/api.py:59\u001b[0m, in \u001b[0;36mrequest\u001b[0;34m(method, url, **kwargs)\u001b[0m\n\u001b[1;32m     55\u001b[0m \u001b[38;5;66;03m# By using the 'with' statement we are sure the session is closed, thus we\u001b[39;00m\n\u001b[1;32m     56\u001b[0m \u001b[38;5;66;03m# avoid leaving sockets open which can trigger a ResourceWarning in some\u001b[39;00m\n\u001b[1;32m     57\u001b[0m \u001b[38;5;66;03m# cases, and look like a memory leak in others.\u001b[39;00m\n\u001b[1;32m     58\u001b[0m \u001b[38;5;28;01mwith\u001b[39;00m sessions\u001b[38;5;241m.\u001b[39mSession() \u001b[38;5;28;01mas\u001b[39;00m session:\n\u001b[0;32m---> 59\u001b[0m     \u001b[38;5;28;01mreturn\u001b[39;00m session\u001b[38;5;241m.\u001b[39mrequest(method\u001b[38;5;241m=\u001b[39mmethod, url\u001b[38;5;241m=\u001b[39murl, \u001b[38;5;241m*\u001b[39m\u001b[38;5;241m*\u001b[39mkwargs)\n",
      "File \u001b[0;32m~/anaconda3/lib/python3.11/site-packages/requests/sessions.py:587\u001b[0m, in \u001b[0;36mSession.request\u001b[0;34m(self, method, url, params, data, headers, cookies, files, auth, timeout, allow_redirects, proxies, hooks, stream, verify, cert, json)\u001b[0m\n\u001b[1;32m    582\u001b[0m send_kwargs \u001b[38;5;241m=\u001b[39m {\n\u001b[1;32m    583\u001b[0m     \u001b[38;5;124m\"\u001b[39m\u001b[38;5;124mtimeout\u001b[39m\u001b[38;5;124m\"\u001b[39m: timeout,\n\u001b[1;32m    584\u001b[0m     \u001b[38;5;124m\"\u001b[39m\u001b[38;5;124mallow_redirects\u001b[39m\u001b[38;5;124m\"\u001b[39m: allow_redirects,\n\u001b[1;32m    585\u001b[0m }\n\u001b[1;32m    586\u001b[0m send_kwargs\u001b[38;5;241m.\u001b[39mupdate(settings)\n\u001b[0;32m--> 587\u001b[0m resp \u001b[38;5;241m=\u001b[39m \u001b[38;5;28mself\u001b[39m\u001b[38;5;241m.\u001b[39msend(prep, \u001b[38;5;241m*\u001b[39m\u001b[38;5;241m*\u001b[39msend_kwargs)\n\u001b[1;32m    589\u001b[0m \u001b[38;5;28;01mreturn\u001b[39;00m resp\n",
      "File \u001b[0;32m~/anaconda3/lib/python3.11/site-packages/requests/sessions.py:701\u001b[0m, in \u001b[0;36mSession.send\u001b[0;34m(self, request, **kwargs)\u001b[0m\n\u001b[1;32m    698\u001b[0m start \u001b[38;5;241m=\u001b[39m preferred_clock()\n\u001b[1;32m    700\u001b[0m \u001b[38;5;66;03m# Send the request\u001b[39;00m\n\u001b[0;32m--> 701\u001b[0m r \u001b[38;5;241m=\u001b[39m adapter\u001b[38;5;241m.\u001b[39msend(request, \u001b[38;5;241m*\u001b[39m\u001b[38;5;241m*\u001b[39mkwargs)\n\u001b[1;32m    703\u001b[0m \u001b[38;5;66;03m# Total elapsed time of the request (approximately)\u001b[39;00m\n\u001b[1;32m    704\u001b[0m elapsed \u001b[38;5;241m=\u001b[39m preferred_clock() \u001b[38;5;241m-\u001b[39m start\n",
      "File \u001b[0;32m~/anaconda3/lib/python3.11/site-packages/requests/adapters.py:487\u001b[0m, in \u001b[0;36mHTTPAdapter.send\u001b[0;34m(self, request, stream, timeout, verify, cert, proxies)\u001b[0m\n\u001b[1;32m    484\u001b[0m     timeout \u001b[38;5;241m=\u001b[39m TimeoutSauce(connect\u001b[38;5;241m=\u001b[39mtimeout, read\u001b[38;5;241m=\u001b[39mtimeout)\n\u001b[1;32m    486\u001b[0m \u001b[38;5;28;01mtry\u001b[39;00m:\n\u001b[0;32m--> 487\u001b[0m     resp \u001b[38;5;241m=\u001b[39m conn\u001b[38;5;241m.\u001b[39murlopen(\n\u001b[1;32m    488\u001b[0m         method\u001b[38;5;241m=\u001b[39mrequest\u001b[38;5;241m.\u001b[39mmethod,\n\u001b[1;32m    489\u001b[0m         url\u001b[38;5;241m=\u001b[39murl,\n\u001b[1;32m    490\u001b[0m         body\u001b[38;5;241m=\u001b[39mrequest\u001b[38;5;241m.\u001b[39mbody,\n\u001b[1;32m    491\u001b[0m         headers\u001b[38;5;241m=\u001b[39mrequest\u001b[38;5;241m.\u001b[39mheaders,\n\u001b[1;32m    492\u001b[0m         redirect\u001b[38;5;241m=\u001b[39m\u001b[38;5;28;01mFalse\u001b[39;00m,\n\u001b[1;32m    493\u001b[0m         assert_same_host\u001b[38;5;241m=\u001b[39m\u001b[38;5;28;01mFalse\u001b[39;00m,\n\u001b[1;32m    494\u001b[0m         preload_content\u001b[38;5;241m=\u001b[39m\u001b[38;5;28;01mFalse\u001b[39;00m,\n\u001b[1;32m    495\u001b[0m         decode_content\u001b[38;5;241m=\u001b[39m\u001b[38;5;28;01mFalse\u001b[39;00m,\n\u001b[1;32m    496\u001b[0m         retries\u001b[38;5;241m=\u001b[39m\u001b[38;5;28mself\u001b[39m\u001b[38;5;241m.\u001b[39mmax_retries,\n\u001b[1;32m    497\u001b[0m         timeout\u001b[38;5;241m=\u001b[39mtimeout,\n\u001b[1;32m    498\u001b[0m         chunked\u001b[38;5;241m=\u001b[39mchunked,\n\u001b[1;32m    499\u001b[0m     )\n\u001b[1;32m    501\u001b[0m \u001b[38;5;28;01mexcept\u001b[39;00m (ProtocolError, \u001b[38;5;167;01mOSError\u001b[39;00m) \u001b[38;5;28;01mas\u001b[39;00m err:\n\u001b[1;32m    502\u001b[0m     \u001b[38;5;28;01mraise\u001b[39;00m \u001b[38;5;167;01mConnectionError\u001b[39;00m(err, request\u001b[38;5;241m=\u001b[39mrequest)\n",
      "File \u001b[0;32m~/anaconda3/lib/python3.11/site-packages/urllib3/connectionpool.py:714\u001b[0m, in \u001b[0;36mHTTPConnectionPool.urlopen\u001b[0;34m(self, method, url, body, headers, retries, redirect, assert_same_host, timeout, pool_timeout, release_conn, chunked, body_pos, **response_kw)\u001b[0m\n\u001b[1;32m    711\u001b[0m     \u001b[38;5;28mself\u001b[39m\u001b[38;5;241m.\u001b[39m_prepare_proxy(conn)\n\u001b[1;32m    713\u001b[0m \u001b[38;5;66;03m# Make the request on the httplib connection object.\u001b[39;00m\n\u001b[0;32m--> 714\u001b[0m httplib_response \u001b[38;5;241m=\u001b[39m \u001b[38;5;28mself\u001b[39m\u001b[38;5;241m.\u001b[39m_make_request(\n\u001b[1;32m    715\u001b[0m     conn,\n\u001b[1;32m    716\u001b[0m     method,\n\u001b[1;32m    717\u001b[0m     url,\n\u001b[1;32m    718\u001b[0m     timeout\u001b[38;5;241m=\u001b[39mtimeout_obj,\n\u001b[1;32m    719\u001b[0m     body\u001b[38;5;241m=\u001b[39mbody,\n\u001b[1;32m    720\u001b[0m     headers\u001b[38;5;241m=\u001b[39mheaders,\n\u001b[1;32m    721\u001b[0m     chunked\u001b[38;5;241m=\u001b[39mchunked,\n\u001b[1;32m    722\u001b[0m )\n\u001b[1;32m    724\u001b[0m \u001b[38;5;66;03m# If we're going to release the connection in ``finally:``, then\u001b[39;00m\n\u001b[1;32m    725\u001b[0m \u001b[38;5;66;03m# the response doesn't need to know about the connection. Otherwise\u001b[39;00m\n\u001b[1;32m    726\u001b[0m \u001b[38;5;66;03m# it will also try to release it and we'll have a double-release\u001b[39;00m\n\u001b[1;32m    727\u001b[0m \u001b[38;5;66;03m# mess.\u001b[39;00m\n\u001b[1;32m    728\u001b[0m response_conn \u001b[38;5;241m=\u001b[39m conn \u001b[38;5;28;01mif\u001b[39;00m \u001b[38;5;129;01mnot\u001b[39;00m release_conn \u001b[38;5;28;01melse\u001b[39;00m \u001b[38;5;28;01mNone\u001b[39;00m\n",
      "File \u001b[0;32m~/anaconda3/lib/python3.11/site-packages/urllib3/connectionpool.py:466\u001b[0m, in \u001b[0;36mHTTPConnectionPool._make_request\u001b[0;34m(self, conn, method, url, timeout, chunked, **httplib_request_kw)\u001b[0m\n\u001b[1;32m    461\u001b[0m             httplib_response \u001b[38;5;241m=\u001b[39m conn\u001b[38;5;241m.\u001b[39mgetresponse()\n\u001b[1;32m    462\u001b[0m         \u001b[38;5;28;01mexcept\u001b[39;00m \u001b[38;5;167;01mBaseException\u001b[39;00m \u001b[38;5;28;01mas\u001b[39;00m e:\n\u001b[1;32m    463\u001b[0m             \u001b[38;5;66;03m# Remove the TypeError from the exception chain in\u001b[39;00m\n\u001b[1;32m    464\u001b[0m             \u001b[38;5;66;03m# Python 3 (including for exceptions like SystemExit).\u001b[39;00m\n\u001b[1;32m    465\u001b[0m             \u001b[38;5;66;03m# Otherwise it looks like a bug in the code.\u001b[39;00m\n\u001b[0;32m--> 466\u001b[0m             six\u001b[38;5;241m.\u001b[39mraise_from(e, \u001b[38;5;28;01mNone\u001b[39;00m)\n\u001b[1;32m    467\u001b[0m \u001b[38;5;28;01mexcept\u001b[39;00m (SocketTimeout, BaseSSLError, SocketError) \u001b[38;5;28;01mas\u001b[39;00m e:\n\u001b[1;32m    468\u001b[0m     \u001b[38;5;28mself\u001b[39m\u001b[38;5;241m.\u001b[39m_raise_timeout(err\u001b[38;5;241m=\u001b[39me, url\u001b[38;5;241m=\u001b[39murl, timeout_value\u001b[38;5;241m=\u001b[39mread_timeout)\n",
      "File \u001b[0;32m<string>:3\u001b[0m, in \u001b[0;36mraise_from\u001b[0;34m(value, from_value)\u001b[0m\n",
      "File \u001b[0;32m~/anaconda3/lib/python3.11/site-packages/urllib3/connectionpool.py:461\u001b[0m, in \u001b[0;36mHTTPConnectionPool._make_request\u001b[0;34m(self, conn, method, url, timeout, chunked, **httplib_request_kw)\u001b[0m\n\u001b[1;32m    458\u001b[0m \u001b[38;5;28;01mexcept\u001b[39;00m \u001b[38;5;167;01mTypeError\u001b[39;00m:\n\u001b[1;32m    459\u001b[0m     \u001b[38;5;66;03m# Python 3\u001b[39;00m\n\u001b[1;32m    460\u001b[0m     \u001b[38;5;28;01mtry\u001b[39;00m:\n\u001b[0;32m--> 461\u001b[0m         httplib_response \u001b[38;5;241m=\u001b[39m conn\u001b[38;5;241m.\u001b[39mgetresponse()\n\u001b[1;32m    462\u001b[0m     \u001b[38;5;28;01mexcept\u001b[39;00m \u001b[38;5;167;01mBaseException\u001b[39;00m \u001b[38;5;28;01mas\u001b[39;00m e:\n\u001b[1;32m    463\u001b[0m         \u001b[38;5;66;03m# Remove the TypeError from the exception chain in\u001b[39;00m\n\u001b[1;32m    464\u001b[0m         \u001b[38;5;66;03m# Python 3 (including for exceptions like SystemExit).\u001b[39;00m\n\u001b[1;32m    465\u001b[0m         \u001b[38;5;66;03m# Otherwise it looks like a bug in the code.\u001b[39;00m\n\u001b[1;32m    466\u001b[0m         six\u001b[38;5;241m.\u001b[39mraise_from(e, \u001b[38;5;28;01mNone\u001b[39;00m)\n",
      "File \u001b[0;32m~/anaconda3/lib/python3.11/http/client.py:1375\u001b[0m, in \u001b[0;36mHTTPConnection.getresponse\u001b[0;34m(self)\u001b[0m\n\u001b[1;32m   1373\u001b[0m \u001b[38;5;28;01mtry\u001b[39;00m:\n\u001b[1;32m   1374\u001b[0m     \u001b[38;5;28;01mtry\u001b[39;00m:\n\u001b[0;32m-> 1375\u001b[0m         response\u001b[38;5;241m.\u001b[39mbegin()\n\u001b[1;32m   1376\u001b[0m     \u001b[38;5;28;01mexcept\u001b[39;00m \u001b[38;5;167;01mConnectionError\u001b[39;00m:\n\u001b[1;32m   1377\u001b[0m         \u001b[38;5;28mself\u001b[39m\u001b[38;5;241m.\u001b[39mclose()\n",
      "File \u001b[0;32m~/anaconda3/lib/python3.11/http/client.py:318\u001b[0m, in \u001b[0;36mHTTPResponse.begin\u001b[0;34m(self)\u001b[0m\n\u001b[1;32m    316\u001b[0m \u001b[38;5;66;03m# read until we get a non-100 response\u001b[39;00m\n\u001b[1;32m    317\u001b[0m \u001b[38;5;28;01mwhile\u001b[39;00m \u001b[38;5;28;01mTrue\u001b[39;00m:\n\u001b[0;32m--> 318\u001b[0m     version, status, reason \u001b[38;5;241m=\u001b[39m \u001b[38;5;28mself\u001b[39m\u001b[38;5;241m.\u001b[39m_read_status()\n\u001b[1;32m    319\u001b[0m     \u001b[38;5;28;01mif\u001b[39;00m status \u001b[38;5;241m!=\u001b[39m CONTINUE:\n\u001b[1;32m    320\u001b[0m         \u001b[38;5;28;01mbreak\u001b[39;00m\n",
      "File \u001b[0;32m~/anaconda3/lib/python3.11/http/client.py:279\u001b[0m, in \u001b[0;36mHTTPResponse._read_status\u001b[0;34m(self)\u001b[0m\n\u001b[1;32m    278\u001b[0m \u001b[38;5;28;01mdef\u001b[39;00m \u001b[38;5;21m_read_status\u001b[39m(\u001b[38;5;28mself\u001b[39m):\n\u001b[0;32m--> 279\u001b[0m     line \u001b[38;5;241m=\u001b[39m \u001b[38;5;28mstr\u001b[39m(\u001b[38;5;28mself\u001b[39m\u001b[38;5;241m.\u001b[39mfp\u001b[38;5;241m.\u001b[39mreadline(_MAXLINE \u001b[38;5;241m+\u001b[39m \u001b[38;5;241m1\u001b[39m), \u001b[38;5;124m\"\u001b[39m\u001b[38;5;124miso-8859-1\u001b[39m\u001b[38;5;124m\"\u001b[39m)\n\u001b[1;32m    280\u001b[0m     \u001b[38;5;28;01mif\u001b[39;00m \u001b[38;5;28mlen\u001b[39m(line) \u001b[38;5;241m>\u001b[39m _MAXLINE:\n\u001b[1;32m    281\u001b[0m         \u001b[38;5;28;01mraise\u001b[39;00m LineTooLong(\u001b[38;5;124m\"\u001b[39m\u001b[38;5;124mstatus line\u001b[39m\u001b[38;5;124m\"\u001b[39m)\n",
      "File \u001b[0;32m~/anaconda3/lib/python3.11/socket.py:706\u001b[0m, in \u001b[0;36mSocketIO.readinto\u001b[0;34m(self, b)\u001b[0m\n\u001b[1;32m    704\u001b[0m \u001b[38;5;28;01mwhile\u001b[39;00m \u001b[38;5;28;01mTrue\u001b[39;00m:\n\u001b[1;32m    705\u001b[0m     \u001b[38;5;28;01mtry\u001b[39;00m:\n\u001b[0;32m--> 706\u001b[0m         \u001b[38;5;28;01mreturn\u001b[39;00m \u001b[38;5;28mself\u001b[39m\u001b[38;5;241m.\u001b[39m_sock\u001b[38;5;241m.\u001b[39mrecv_into(b)\n\u001b[1;32m    707\u001b[0m     \u001b[38;5;28;01mexcept\u001b[39;00m timeout:\n\u001b[1;32m    708\u001b[0m         \u001b[38;5;28mself\u001b[39m\u001b[38;5;241m.\u001b[39m_timeout_occurred \u001b[38;5;241m=\u001b[39m \u001b[38;5;28;01mTrue\u001b[39;00m\n",
      "File \u001b[0;32m~/anaconda3/lib/python3.11/ssl.py:1278\u001b[0m, in \u001b[0;36mSSLSocket.recv_into\u001b[0;34m(self, buffer, nbytes, flags)\u001b[0m\n\u001b[1;32m   1274\u001b[0m     \u001b[38;5;28;01mif\u001b[39;00m flags \u001b[38;5;241m!=\u001b[39m \u001b[38;5;241m0\u001b[39m:\n\u001b[1;32m   1275\u001b[0m         \u001b[38;5;28;01mraise\u001b[39;00m \u001b[38;5;167;01mValueError\u001b[39;00m(\n\u001b[1;32m   1276\u001b[0m           \u001b[38;5;124m\"\u001b[39m\u001b[38;5;124mnon-zero flags not allowed in calls to recv_into() on \u001b[39m\u001b[38;5;132;01m%s\u001b[39;00m\u001b[38;5;124m\"\u001b[39m \u001b[38;5;241m%\u001b[39m\n\u001b[1;32m   1277\u001b[0m           \u001b[38;5;28mself\u001b[39m\u001b[38;5;241m.\u001b[39m\u001b[38;5;18m__class__\u001b[39m)\n\u001b[0;32m-> 1278\u001b[0m     \u001b[38;5;28;01mreturn\u001b[39;00m \u001b[38;5;28mself\u001b[39m\u001b[38;5;241m.\u001b[39mread(nbytes, buffer)\n\u001b[1;32m   1279\u001b[0m \u001b[38;5;28;01melse\u001b[39;00m:\n\u001b[1;32m   1280\u001b[0m     \u001b[38;5;28;01mreturn\u001b[39;00m \u001b[38;5;28msuper\u001b[39m()\u001b[38;5;241m.\u001b[39mrecv_into(buffer, nbytes, flags)\n",
      "File \u001b[0;32m~/anaconda3/lib/python3.11/ssl.py:1134\u001b[0m, in \u001b[0;36mSSLSocket.read\u001b[0;34m(self, len, buffer)\u001b[0m\n\u001b[1;32m   1132\u001b[0m \u001b[38;5;28;01mtry\u001b[39;00m:\n\u001b[1;32m   1133\u001b[0m     \u001b[38;5;28;01mif\u001b[39;00m buffer \u001b[38;5;129;01mis\u001b[39;00m \u001b[38;5;129;01mnot\u001b[39;00m \u001b[38;5;28;01mNone\u001b[39;00m:\n\u001b[0;32m-> 1134\u001b[0m         \u001b[38;5;28;01mreturn\u001b[39;00m \u001b[38;5;28mself\u001b[39m\u001b[38;5;241m.\u001b[39m_sslobj\u001b[38;5;241m.\u001b[39mread(\u001b[38;5;28mlen\u001b[39m, buffer)\n\u001b[1;32m   1135\u001b[0m     \u001b[38;5;28;01melse\u001b[39;00m:\n\u001b[1;32m   1136\u001b[0m         \u001b[38;5;28;01mreturn\u001b[39;00m \u001b[38;5;28mself\u001b[39m\u001b[38;5;241m.\u001b[39m_sslobj\u001b[38;5;241m.\u001b[39mread(\u001b[38;5;28mlen\u001b[39m)\n",
      "\u001b[0;31mKeyboardInterrupt\u001b[0m: "
     ]
    }
   ],
   "source": [
    "for i in tqdm(ls):\n",
    "    match = re.search(pattern, i)\n",
    "    if match:\n",
    "        number = match.group(1)\n",
    "        #print(\"Extracted number:\", number)\n",
    "    upload_ei(str(number), pd.read_csv(i, delimiter=\"\\t\")[\"inicio\"].values.reshape(-1,1))"
   ]
  },
  {
   "cell_type": "code",
   "execution_count": null,
   "id": "d5436541-b9d6-4707-a9a7-1e5acaba22ae",
   "metadata": {},
   "outputs": [],
   "source": []
  }
 ],
 "metadata": {
  "kernelspec": {
   "display_name": "Python 3 (ipykernel)",
   "language": "python",
   "name": "python3"
  },
  "language_info": {
   "codemirror_mode": {
    "name": "ipython",
    "version": 3
   },
   "file_extension": ".py",
   "mimetype": "text/x-python",
   "name": "python",
   "nbconvert_exporter": "python",
   "pygments_lexer": "ipython3",
   "version": "3.11.3"
  }
 },
 "nbformat": 4,
 "nbformat_minor": 5
}
